{
 "cells": [
  {
   "cell_type": "code",
   "execution_count": null,
   "metadata": {},
   "outputs": [],
   "source": [
    "# Import libraries\n",
    "from PIL import Image\n",
    "import numpy as np\n",
    "from random import randrange\n",
    "\n",
    "# Define constants (Or read constants from user in future)\n",
    "width, height = 400, 400\n",
    "num_blocks_width = 5\n",
    "num_blocks_height = 5\n",
    "\n",
    "base_color = (240, 240, 240)"
   ]
  },
  {
   "cell_type": "code",
   "execution_count": null,
   "metadata": {},
   "outputs": [],
   "source": [
    "# Randomize color\n",
    "red_component = randrange(256)\n",
    "green_component = randrange(256)\n",
    "blue_component = randrange(256)\n",
    "alpha_component = 1\n",
    "\n",
    "color = (red_component, green_component, blue_component)\n",
    "print(color)"
   ]
  },
  {
   "cell_type": "code",
   "execution_count": null,
   "metadata": {},
   "outputs": [],
   "source": [
    "'''\n",
    "Generate block array by randomly selecting the choice for all blocks\n",
    "Number of possibilities: 2^(num_blocks_width * num_blocks_height)\n",
    "'''\n",
    "def getBlockArray1():\n",
    "    block_array = [[0 for x in range(num_blocks_width)] for y in range(num_blocks_height)] \n",
    "    for i in range(num_blocks_width):\n",
    "        for j in range(num_blocks_height):\n",
    "            choice = randrange(2)\n",
    "            block_array[i][j] = choice\n",
    "\n",
    "    return block_array"
   ]
  },
  {
   "cell_type": "code",
   "execution_count": null,
   "metadata": {},
   "outputs": [],
   "source": [
    "'''\n",
    "Generate block array using the following algorithm:\n",
    "- Fill only first half columns and copy the second half from first half\n",
    "- Number of blocks which needs to be randomised:\n",
    "    num_randomised = ((num_blocks_width+1)/2 * num_blocks_height)\n",
    "- Number of blocks which must be filled should lie in this range:\n",
    "    num_blocks_filled = randrange(1/3 * num_randomised, 2/3 * num_randomised)\n",
    "- Run an infinite loop which will pick a number from (0, num_randomised) till count reached num_blocks_filled\n",
    "- Maintain a visited array which will check if that block has already been visited(filled)\n",
    "'''\n",
    "def getBlockArray2():\n",
    "    half_num_blocks_width = int((num_blocks_width+1)/2)\n",
    "    num_randomised = int(half_num_blocks_width * num_blocks_height)\n",
    "    num_blocks_filled = randrange(int(num_randomised / 3), int(2 * num_randomised / 3))\n",
    "    \n",
    "    visited = [0 for x in range(num_randomised)]\n",
    "    block_array = [[0 for x in range(num_blocks_width)] for y in range(num_blocks_height)]\n",
    "    filled_count = 0\n",
    "    while filled_count < num_blocks_filled:\n",
    "        while True:\n",
    "            rand_num = randrange(num_randomised)\n",
    "            if visited[rand_num] == 0:\n",
    "                visited[rand_num] = 1\n",
    "                filled_count = filled_count + 1\n",
    "                break\n",
    "\n",
    "    for pos in range(num_randomised):\n",
    "        # If the position is visited, fill the 2D block array\n",
    "        if visited[pos] == 1:\n",
    "            pos_x = int(pos/half_num_blocks_width)\n",
    "            pos_y = int(pos%half_num_blocks_width)\n",
    "            block_array[pos_x][pos_y] = 1\n",
    "            block_array[pos_x][num_blocks_height - pos_y - 1] = 1\n",
    "\n",
    "    return block_array"
   ]
  },
  {
   "cell_type": "code",
   "execution_count": null,
   "metadata": {},
   "outputs": [],
   "source": [
    "image_array = np.zeros((height, width, 3), dtype=np.uint8)\n",
    "\n",
    "block_size_width = int(width / num_blocks_width)\n",
    "block_size_height = int(width / num_blocks_height)\n",
    "\n",
    "block_array = getBlockArray2()\n",
    "\n",
    "for i in range(num_blocks_width):\n",
    "    for j in range(num_blocks_height):\n",
    "        width_start = i * block_size_width\n",
    "        width_end = (i+1) * block_size_width\n",
    "        height_start = j * block_size_height\n",
    "        height_end = (j+1) * block_size_height\n",
    "        if block_array[i][j] == 1:\n",
    "            image_array[width_start:width_end,height_start:height_end] = color\n",
    "        else:\n",
    "            image_array[width_start:width_end,height_start:height_end] = base_color\n",
    "\n",
    "img = Image.fromarray(image_array, 'RGB')\n",
    "img.save(\"image.png\")\n",
    "\n",
    "img.show()"
   ]
  },
  {
   "cell_type": "code",
   "execution_count": null,
   "metadata": {},
   "outputs": [],
   "source": []
  }
 ],
 "metadata": {
  "kernelspec": {
   "display_name": "Python 3",
   "language": "python",
   "name": "python3"
  },
  "language_info": {
   "codemirror_mode": {
    "name": "ipython",
    "version": 3
   },
   "file_extension": ".py",
   "mimetype": "text/x-python",
   "name": "python",
   "nbconvert_exporter": "python",
   "pygments_lexer": "ipython3",
   "version": "3.6.5"
  },
  "widgets": {
   "state": {},
   "version": "1.1.2"
  }
 },
 "nbformat": 4,
 "nbformat_minor": 2
}
