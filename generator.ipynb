{
 "cells": [
  {
   "cell_type": "code",
   "execution_count": 1,
   "metadata": {},
   "outputs": [
    {
     "name": "stdout",
     "output_type": "stream",
     "text": [
      "Width: 400\n",
      "Height: 400\n"
     ]
    }
   ],
   "source": [
    "# Import libraries\n",
    "from PIL import Image\n",
    "import numpy as np\n",
    "from random import randrange\n",
    "\n",
    "# Define constants\n",
    "width, height = 400, 400\n",
    "num_blocks_width = 5\n",
    "num_blocks_height = 5\n",
    "base_color = (240, 240, 240)\n",
    "\n",
    "print(\"Width: \" + str(width))\n",
    "print(\"Height: \" + str(height))"
   ]
  },
  {
   "cell_type": "code",
   "execution_count": 2,
   "metadata": {},
   "outputs": [
    {
     "name": "stdout",
     "output_type": "stream",
     "text": [
      "(228, 247, 200)\n"
     ]
    }
   ],
   "source": [
    "# Randomize color\n",
    "red_component = randrange(256)\n",
    "green_component = randrange(256)\n",
    "blue_component = randrange(256)\n",
    "alpha_component = 1\n",
    "\n",
    "color = (red_component, green_component, blue_component)\n",
    "print(color)"
   ]
  },
  {
   "cell_type": "code",
   "execution_count": 3,
   "metadata": {},
   "outputs": [
    {
     "name": "stdout",
     "output_type": "stream",
     "text": [
      "[[0, 0, 0, 0, 1], [1, 0, 1, 0, 1], [0, 0, 1, 1, 0], [0, 0, 1, 1, 0], [1, 0, 0, 1, 0]]\n"
     ]
    }
   ],
   "source": [
    "'''\n",
    "Generate block array where blocks will be filled with color\n",
    "Algorithm:\n",
    "- define array[5,5]\n",
    "- fill 1 randomly in first three columns (15 possibilities)\n",
    "- copy first two columns in last two columns\n",
    "\n",
    "Randomly Filling Algorithm\n",
    "- There are total of 15 possibilities ((num_blocks_width+1)/2 * num_blocks_height)\n",
    "- Number of blocks which should be filled must be in the range: (5,8)\n",
    "'''\n",
    "\n",
    "block_array = [[0 for x in range(num_blocks_width)] for y in range(num_blocks_height)] \n",
    "for i in range(5):\n",
    "    for j in range(5):\n",
    "        choice = randrange(2)\n",
    "        block_array[i][j] = choice\n",
    "\n",
    "print(block_array)"
   ]
  },
  {
   "cell_type": "code",
   "execution_count": 4,
   "metadata": {},
   "outputs": [],
   "source": [
    "image_array = np.zeros((height, width, 3), dtype=np.uint8)\n",
    "\n",
    "block_size = int(width / num_blocks_width)\n",
    "\n",
    "for i in range(num_blocks_width):\n",
    "    for j in range(num_blocks_height):\n",
    "        if block_array[i][j] == 1:\n",
    "            image_array[i*block_size:(i+1)*block_size,j*block_size:(j+1)*block_size] = color\n",
    "        else:\n",
    "            image_array[i*block_size:(i+1)*block_size,j*block_size:(j+1)*block_size] = base_color\n",
    "\n",
    "img = Image.fromarray(image_array, 'RGB')\n",
    "img.save(\"image.png\")\n",
    "\n",
    "img.show()"
   ]
  }
 ],
 "metadata": {
  "kernelspec": {
   "display_name": "Python 3",
   "language": "python",
   "name": "python3"
  },
  "language_info": {
   "codemirror_mode": {
    "name": "ipython",
    "version": 3
   },
   "file_extension": ".py",
   "mimetype": "text/x-python",
   "name": "python",
   "nbconvert_exporter": "python",
   "pygments_lexer": "ipython3",
   "version": "3.5.2"
  },
  "widgets": {
   "state": {},
   "version": "1.1.2"
  }
 },
 "nbformat": 4,
 "nbformat_minor": 2
}
